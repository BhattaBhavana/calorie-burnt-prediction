{
 "cells": [
  {
   "cell_type": "code",
   "execution_count": null,
   "id": "d8c8e7e7",
   "metadata": {},
   "outputs": [
    {
     "name": "stdout",
     "output_type": "stream",
     "text": [
      " * Serving Flask app '__main__'\n",
      " * Debug mode: on\n"
     ]
    },
    {
     "name": "stderr",
     "output_type": "stream",
     "text": [
      "WARNING: This is a development server. Do not use it in a production deployment. Use a production WSGI server instead.\n",
      " * Running on http://127.0.0.1:5000\n",
      "Press CTRL+C to quit\n",
      "127.0.0.1 - - [05/Mar/2024 16:54:28] \"GET / HTTP/1.1\" 200 -\n",
      "127.0.0.1 - - [05/Mar/2024 16:54:28] \"GET /favicon.ico HTTP/1.1\" 404 -\n",
      "C:\\Users\\bhatt\\anaconda3\\lib\\site-packages\\sklearn\\base.py:420: UserWarning: X does not have valid feature names, but GradientBoostingRegressor was fitted with feature names\n",
      "  warnings.warn(\n",
      "127.0.0.1 - - [05/Mar/2024 16:55:16] \"POST /predict HTTP/1.1\" 200 -\n"
     ]
    }
   ],
   "source": [
    "from flask import Flask, render_template, request\n",
    "import joblib\n",
    "\n",
    "app = Flask(__name__)\n",
    "\n",
    "# Load the pre-trained model\n",
    "model = joblib.load('gb_model.pkl')\n",
    "\n",
    "@app.route('/')\n",
    "def home():\n",
    "    return render_template('index.html')\n",
    "\n",
    "@app.route('/predict', methods=['POST'])\n",
    "def predict():\n",
    "    if request.method == 'POST':\n",
    "        # Get user inputs from the HTML form\n",
    "        userid=int(request.form['User_ID'])\n",
    "        age = float(request.form['age'])\n",
    "        height = float(request.form['height'])\n",
    "        weight = float(request.form['weight'])\n",
    "        duration = float(request.form['duration'])\n",
    "        heart_rate = float(request.form['heart_rate'])\n",
    "        body_temp = float(request.form['body_temp'])\n",
    "\n",
    "        # Make a prediction using the loaded model\n",
    "        prediction = model.predict([[userid,age, height, weight, duration, heart_rate, body_temp]])\n",
    "\n",
    "        # Display the prediction result\n",
    "        return render_template('index.html', prediction=prediction[0])\n",
    "\n",
    "if __name__ == '__main__':\n",
    "    app.run(debug=True,use_reloader=False)\n"
   ]
  },
  {
   "cell_type": "code",
   "execution_count": null,
   "id": "c9d8d937",
   "metadata": {},
   "outputs": [],
   "source": []
  }
 ],
 "metadata": {
  "kernelspec": {
   "display_name": "Python 3 (ipykernel)",
   "language": "python",
   "name": "python3"
  },
  "language_info": {
   "codemirror_mode": {
    "name": "ipython",
    "version": 3
   },
   "file_extension": ".py",
   "mimetype": "text/x-python",
   "name": "python",
   "nbconvert_exporter": "python",
   "pygments_lexer": "ipython3",
   "version": "3.10.9"
  }
 },
 "nbformat": 4,
 "nbformat_minor": 5
}
